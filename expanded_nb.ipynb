{
 "cells": [
  {
   "cell_type": "markdown",
   "metadata": {},
   "source": [
    "## TripleTen Code Jam 2023\n",
    "**Team: Santa's Coders**\n",
    "- Marco Fernstaedt\n",
    "- Veronica Steele\n",
    "- Andrew Kwon\n",
    "\n",
    "In this project, our team designed a delivery route application where users can select a start location and up to seven destinations. This project applies various methods to solving/estimating a small scale adaptation of the traveling salesman problem, or shortest Hamiltonian cycle."
   ]
  },
  {
   "cell_type": "markdown",
   "metadata": {},
   "source": [
    "### Packages and Libraries"
   ]
  },
  {
   "cell_type": "code",
   "execution_count": 1,
   "metadata": {},
   "outputs": [],
   "source": [
    "import pandas as pd\n",
    "import random\n",
    "import time\n",
    "import math\n",
    "\n",
    "from itertools import permutations\n",
    "from geopy import distance"
   ]
  },
  {
   "cell_type": "markdown",
   "metadata": {},
   "source": [
    "### Data Loading and Processing"
   ]
  },
  {
   "cell_type": "markdown",
   "metadata": {},
   "source": [
    "The dataset is derived from the 2020 US census report and contains information such as city name, state, counties, and population. The most important information we'll need for our route optimization are the geodetic coordinates for each location."
   ]
  },
  {
   "cell_type": "code",
   "execution_count": 2,
   "metadata": {},
   "outputs": [
    {
     "data": {
      "text/html": [
       "<div>\n",
       "<style scoped>\n",
       "    .dataframe tbody tr th:only-of-type {\n",
       "        vertical-align: middle;\n",
       "    }\n",
       "\n",
       "    .dataframe tbody tr th {\n",
       "        vertical-align: top;\n",
       "    }\n",
       "\n",
       "    .dataframe thead th {\n",
       "        text-align: right;\n",
       "    }\n",
       "</style>\n",
       "<table border=\"1\" class=\"dataframe\">\n",
       "  <thead>\n",
       "    <tr style=\"text-align: right;\">\n",
       "      <th></th>\n",
       "      <th>City</th>\n",
       "      <th>State</th>\n",
       "      <th>Type</th>\n",
       "      <th>Counties</th>\n",
       "      <th>Population</th>\n",
       "      <th>Latitude</th>\n",
       "      <th>Longitude</th>\n",
       "    </tr>\n",
       "  </thead>\n",
       "  <tbody>\n",
       "    <tr>\n",
       "      <th>10262</th>\n",
       "      <td>Stratford</td>\n",
       "      <td>OK</td>\n",
       "      <td>Town</td>\n",
       "      <td>Garvin</td>\n",
       "      <td>1405</td>\n",
       "      <td>34.795</td>\n",
       "      <td>-96.960</td>\n",
       "    </tr>\n",
       "    <tr>\n",
       "      <th>17976</th>\n",
       "      <td>Grenora</td>\n",
       "      <td>ND</td>\n",
       "      <td>City</td>\n",
       "      <td>Williams</td>\n",
       "      <td>221</td>\n",
       "      <td>48.620</td>\n",
       "      <td>-103.937</td>\n",
       "    </tr>\n",
       "    <tr>\n",
       "      <th>18578</th>\n",
       "      <td>Fitzhugh</td>\n",
       "      <td>OK</td>\n",
       "      <td>Town</td>\n",
       "      <td>Pontotoc</td>\n",
       "      <td>183</td>\n",
       "      <td>34.658</td>\n",
       "      <td>-96.767</td>\n",
       "    </tr>\n",
       "    <tr>\n",
       "      <th>5640</th>\n",
       "      <td>Lindstrom</td>\n",
       "      <td>MN</td>\n",
       "      <td>City</td>\n",
       "      <td>Chisago</td>\n",
       "      <td>4888</td>\n",
       "      <td>45.405</td>\n",
       "      <td>-92.865</td>\n",
       "    </tr>\n",
       "    <tr>\n",
       "      <th>779</th>\n",
       "      <td>Kannapolis</td>\n",
       "      <td>NC</td>\n",
       "      <td>City</td>\n",
       "      <td>Rowan;Cabarrus</td>\n",
       "      <td>53114</td>\n",
       "      <td>35.489</td>\n",
       "      <td>-80.628</td>\n",
       "    </tr>\n",
       "    <tr>\n",
       "      <th>18320</th>\n",
       "      <td>Trenton</td>\n",
       "      <td>SC</td>\n",
       "      <td>Town</td>\n",
       "      <td>Edgefield</td>\n",
       "      <td>200</td>\n",
       "      <td>33.741</td>\n",
       "      <td>-81.841</td>\n",
       "    </tr>\n",
       "    <tr>\n",
       "      <th>979</th>\n",
       "      <td>Woonsocket</td>\n",
       "      <td>RI</td>\n",
       "      <td>City</td>\n",
       "      <td>Providence</td>\n",
       "      <td>43240</td>\n",
       "      <td>42.000</td>\n",
       "      <td>-71.516</td>\n",
       "    </tr>\n",
       "    <tr>\n",
       "      <th>18840</th>\n",
       "      <td>Centerville</td>\n",
       "      <td>MO</td>\n",
       "      <td>City</td>\n",
       "      <td>Reynolds</td>\n",
       "      <td>167</td>\n",
       "      <td>37.436</td>\n",
       "      <td>-90.960</td>\n",
       "    </tr>\n",
       "    <tr>\n",
       "      <th>819</th>\n",
       "      <td>East Honolulu</td>\n",
       "      <td>HI</td>\n",
       "      <td>Census-Designated Place</td>\n",
       "      <td>Honolulu</td>\n",
       "      <td>50922</td>\n",
       "      <td>21.286</td>\n",
       "      <td>-157.707</td>\n",
       "    </tr>\n",
       "    <tr>\n",
       "      <th>18065</th>\n",
       "      <td>Frederick</td>\n",
       "      <td>SD</td>\n",
       "      <td>Town</td>\n",
       "      <td>Brown</td>\n",
       "      <td>215</td>\n",
       "      <td>45.832</td>\n",
       "      <td>-98.507</td>\n",
       "    </tr>\n",
       "  </tbody>\n",
       "</table>\n",
       "</div>"
      ],
      "text/plain": [
       "                City State                     Type        Counties  \\\n",
       "10262      Stratford    OK                     Town          Garvin   \n",
       "17976        Grenora    ND                     City        Williams   \n",
       "18578       Fitzhugh    OK                     Town        Pontotoc   \n",
       "5640       Lindstrom    MN                     City         Chisago   \n",
       "779       Kannapolis    NC                     City  Rowan;Cabarrus   \n",
       "18320        Trenton    SC                     Town       Edgefield   \n",
       "979       Woonsocket    RI                     City      Providence   \n",
       "18840    Centerville    MO                     City        Reynolds   \n",
       "819    East Honolulu    HI  Census-Designated Place        Honolulu   \n",
       "18065      Frederick    SD                     Town           Brown   \n",
       "\n",
       "       Population  Latitude  Longitude  \n",
       "10262        1405    34.795    -96.960  \n",
       "17976         221    48.620   -103.937  \n",
       "18578         183    34.658    -96.767  \n",
       "5640         4888    45.405    -92.865  \n",
       "779         53114    35.489    -80.628  \n",
       "18320         200    33.741    -81.841  \n",
       "979         43240    42.000    -71.516  \n",
       "18840         167    37.436    -90.960  \n",
       "819         50922    21.286   -157.707  \n",
       "18065         215    45.832    -98.507  "
      ]
     },
     "metadata": {},
     "output_type": "display_data"
    },
    {
     "name": "stdout",
     "output_type": "stream",
     "text": [
      "<class 'pandas.core.frame.DataFrame'>\n",
      "RangeIndex: 21397 entries, 0 to 21396\n",
      "Data columns (total 7 columns):\n",
      " #   Column      Non-Null Count  Dtype  \n",
      "---  ------      --------------  -----  \n",
      " 0   City        21397 non-null  object \n",
      " 1   State       21397 non-null  object \n",
      " 2   Type        21397 non-null  object \n",
      " 3   Counties    21397 non-null  object \n",
      " 4   Population  21397 non-null  int64  \n",
      " 5   Latitude    21397 non-null  float64\n",
      " 6   Longitude   21397 non-null  float64\n",
      "dtypes: float64(2), int64(1), object(4)\n",
      "memory usage: 1.1+ MB\n"
     ]
    }
   ],
   "source": [
    "cities = pd.read_csv('datasets/us_cities.csv', encoding = 'ISO-8859-1')\n",
    "\n",
    "display(cities.sample(10))\n",
    "cities.info()"
   ]
  },
  {
   "cell_type": "markdown",
   "metadata": {},
   "source": [
    "The dataset appears to be intact; there are 21,397 entries with no missing values. The data types for each column also appear to be correct. In order to simplify the selectable destinations along our route, we'll limit the dataset to the most popular US cities. As such, we'll only include cities that have a population of 400,000 people or greater. Additionally, we'll drop the columns we will not be using -- counties and type."
   ]
  },
  {
   "cell_type": "code",
   "execution_count": 3,
   "metadata": {},
   "outputs": [
    {
     "data": {
      "text/html": [
       "<div>\n",
       "<style scoped>\n",
       "    .dataframe tbody tr th:only-of-type {\n",
       "        vertical-align: middle;\n",
       "    }\n",
       "\n",
       "    .dataframe tbody tr th {\n",
       "        vertical-align: top;\n",
       "    }\n",
       "\n",
       "    .dataframe thead th {\n",
       "        text-align: right;\n",
       "    }\n",
       "</style>\n",
       "<table border=\"1\" class=\"dataframe\">\n",
       "  <thead>\n",
       "    <tr style=\"text-align: right;\">\n",
       "      <th></th>\n",
       "      <th>City</th>\n",
       "      <th>State</th>\n",
       "      <th>Population</th>\n",
       "      <th>Latitude</th>\n",
       "      <th>Longitude</th>\n",
       "    </tr>\n",
       "  </thead>\n",
       "  <tbody>\n",
       "    <tr>\n",
       "      <th>43</th>\n",
       "      <td>Miami</td>\n",
       "      <td>FL</td>\n",
       "      <td>442241</td>\n",
       "      <td>25.774</td>\n",
       "      <td>-80.192</td>\n",
       "    </tr>\n",
       "    <tr>\n",
       "      <th>27</th>\n",
       "      <td>Memphis</td>\n",
       "      <td>TN</td>\n",
       "      <td>633104</td>\n",
       "      <td>35.146</td>\n",
       "      <td>-90.052</td>\n",
       "    </tr>\n",
       "    <tr>\n",
       "      <th>15</th>\n",
       "      <td>Charlotte</td>\n",
       "      <td>NC</td>\n",
       "      <td>874579</td>\n",
       "      <td>35.227</td>\n",
       "      <td>-80.843</td>\n",
       "    </tr>\n",
       "    <tr>\n",
       "      <th>25</th>\n",
       "      <td>Las Vegas</td>\n",
       "      <td>NV</td>\n",
       "      <td>641903</td>\n",
       "      <td>36.171</td>\n",
       "      <td>-115.144</td>\n",
       "    </tr>\n",
       "    <tr>\n",
       "      <th>12</th>\n",
       "      <td>Fort Worth</td>\n",
       "      <td>TX</td>\n",
       "      <td>918915</td>\n",
       "      <td>32.754</td>\n",
       "      <td>-97.331</td>\n",
       "    </tr>\n",
       "    <tr>\n",
       "      <th>17</th>\n",
       "      <td>Seattle</td>\n",
       "      <td>WA</td>\n",
       "      <td>737015</td>\n",
       "      <td>47.607</td>\n",
       "      <td>-122.338</td>\n",
       "    </tr>\n",
       "    <tr>\n",
       "      <th>10</th>\n",
       "      <td>Austin</td>\n",
       "      <td>TX</td>\n",
       "      <td>961855</td>\n",
       "      <td>30.268</td>\n",
       "      <td>-97.743</td>\n",
       "    </tr>\n",
       "    <tr>\n",
       "      <th>41</th>\n",
       "      <td>Long Beach</td>\n",
       "      <td>CA</td>\n",
       "      <td>466742</td>\n",
       "      <td>33.768</td>\n",
       "      <td>-118.192</td>\n",
       "    </tr>\n",
       "    <tr>\n",
       "      <th>33</th>\n",
       "      <td>Fresno</td>\n",
       "      <td>CA</td>\n",
       "      <td>542107</td>\n",
       "      <td>36.737</td>\n",
       "      <td>-119.789</td>\n",
       "    </tr>\n",
       "    <tr>\n",
       "      <th>22</th>\n",
       "      <td>El Paso</td>\n",
       "      <td>TX</td>\n",
       "      <td>678815</td>\n",
       "      <td>31.760</td>\n",
       "      <td>-106.488</td>\n",
       "    </tr>\n",
       "  </tbody>\n",
       "</table>\n",
       "</div>"
      ],
      "text/plain": [
       "          City State  Population  Latitude  Longitude\n",
       "43       Miami    FL      442241    25.774    -80.192\n",
       "27     Memphis    TN      633104    35.146    -90.052\n",
       "15   Charlotte    NC      874579    35.227    -80.843\n",
       "25   Las Vegas    NV      641903    36.171   -115.144\n",
       "12  Fort Worth    TX      918915    32.754    -97.331\n",
       "17     Seattle    WA      737015    47.607   -122.338\n",
       "10      Austin    TX      961855    30.268    -97.743\n",
       "41  Long Beach    CA      466742    33.768   -118.192\n",
       "33      Fresno    CA      542107    36.737   -119.789\n",
       "22     El Paso    TX      678815    31.760   -106.488"
      ]
     },
     "metadata": {},
     "output_type": "display_data"
    },
    {
     "name": "stdout",
     "output_type": "stream",
     "text": [
      "(48, 5)\n"
     ]
    }
   ],
   "source": [
    "pop_cities = cities.drop(['Counties', 'Type'], axis=1)\n",
    "pop_cities = pop_cities[pop_cities['Population'] >= 4e5]\n",
    "\n",
    "display(pop_cities.sample(10))\n",
    "print(pop_cities.shape)"
   ]
  },
  {
   "cell_type": "markdown",
   "metadata": {},
   "source": [
    "As a result, we have 48 cities from which users can choose for their route."
   ]
  },
  {
   "cell_type": "markdown",
   "metadata": {},
   "source": [
    "### Export Subset Data\n",
    "\n",
    "Export to facilitate webapp loading"
   ]
  },
  {
   "cell_type": "code",
   "execution_count": 4,
   "metadata": {},
   "outputs": [],
   "source": [
    "# Remove comment if export required\n",
    "# pop_cities.to_csv('datasets\\cities_final.csv')"
   ]
  },
  {
   "cell_type": "markdown",
   "metadata": {},
   "source": [
    "### Route Algorithms\n",
    "\n",
    "To illustrate optimization improvements, we'll compare the following search path algorithms:  \n",
    "- Random path (baseline)\n",
    "- Greedy\n",
    "- K-optimal Tours (Heuristic)\n",
    "- Brute Force"
   ]
  },
  {
   "cell_type": "markdown",
   "metadata": {},
   "source": [
    "**Functions**"
   ]
  },
  {
   "cell_type": "markdown",
   "metadata": {},
   "source": [
    "<code>get_city_data(cities)</code>  \n",
    "Parameters:  \n",
    "- *cities*: List of city names (dtype string) of start node and route destinations\n",
    "\n",
    "Returns:\n",
    "- DataFrame slice of city name, state, population, latitude and longitiude"
   ]
  },
  {
   "cell_type": "code",
   "execution_count": 5,
   "metadata": {},
   "outputs": [],
   "source": [
    "def get_city_data(city_list):\n",
    "    return pop_cities.query('City in @city_list')"
   ]
  },
  {
   "cell_type": "markdown",
   "metadata": {},
   "source": [
    "<code>create_map(df_cities)</code>  \n",
    "Parameters:  \n",
    "- *df_cities*: DataFrame slice of name, state, population, latitude and longitiude for start and destination cities\n",
    "\n",
    "Returns:\n",
    "- *edges*: Dictionary object of graph edges (all city pairs)\n",
    "- *weights*: Dictionary objects containing the edge weights between each city pair\n",
    "- *coords*: Dictionary object of each city (dtype string) and their location in latitude/longitude (tuple of float)"
   ]
  },
  {
   "cell_type": "code",
   "execution_count": 6,
   "metadata": {},
   "outputs": [],
   "source": [
    "def create_map(df_cities):\n",
    "    num_cities = len(df_cities)\n",
    "    edges = {}\n",
    "    weights = {}\n",
    "    coords = {}\n",
    "    \n",
    "    for i in range(num_cities):\n",
    "        city_a = df_cities.iloc[i]\n",
    "        edges[city_a['City']] = []\n",
    "        coords[city_a['City']] = (city_a['Latitude'], city_a['Longitude'])\n",
    "        for j in range(num_cities):\n",
    "            if i != j:\n",
    "                city_b = df_cities.iloc[j]\n",
    "                edges[city_a['City']].append(city_b['City'])\n",
    "                weights[(city_a['City'], city_b['City'])] = distance.distance((city_a['Latitude'], city_a['Longitude']), (city_b['Latitude'], city_b['Longitude'])).nm\n",
    "\n",
    "    return edges, weights, coords"
   ]
  },
  {
   "cell_type": "markdown",
   "metadata": {},
   "source": [
    "<code>get_random_rte(src, nodes, weights)</code>  \n",
    "Parameters:  \n",
    "- *src*: Start and end location (dtype string)\n",
    "- *nodes*: List of destination cities (dtype string)\n",
    "- *weights*: Dictionary object of edge weights between cities (distance in nautical miles)\n",
    "\n",
    "Returns:  \n",
    "- *route*: Randomly generated route, starting and ending with the source node (dtype list)\n",
    "- *cost*: The tour cost for the route in nautical miles (dtype float)"
   ]
  },
  {
   "cell_type": "code",
   "execution_count": 7,
   "metadata": {},
   "outputs": [],
   "source": [
    "def get_random_rte(src, nodes, weights):\n",
    "    random.shuffle(nodes)\n",
    "    route = [src] + nodes + [src]\n",
    "    \n",
    "    curr = route[0]\n",
    "    cost = 0\n",
    "    for i in range(1, len(route)):\n",
    "        next = route[i]\n",
    "        cost += weights[(curr, next)]\n",
    "        curr = next\n",
    "    \n",
    "    return route, cost"
   ]
  },
  {
   "cell_type": "markdown",
   "metadata": {},
   "source": [
    "<code>get_greedy_rte(src, edges, weights)</code>  \n",
    "Parameters:  \n",
    "- *src*: Start and end location (dtype string)\n",
    "- *edges*: Dictionary object of each city pair representing graph edges\n",
    "- *weights*: Dictionary object of edge weights between cities (distance in nautical miles)\n",
    "\n",
    "Returns:  \n",
    "- *route*: Route generated by selecting the next closest city from each node, starting at the source (dtpe list)\n",
    "- *cost*: The tour cost for the route in nautical miles (dtype float)"
   ]
  },
  {
   "cell_type": "code",
   "execution_count": 8,
   "metadata": {},
   "outputs": [],
   "source": [
    "def get_greedy_rte(src, edges, weights):\n",
    "    visited = set()\n",
    "    v = src\n",
    "\n",
    "    route = []\n",
    "    cost = 0\n",
    "    while True:\n",
    "        visited.add(v)\n",
    "        route.append(v)\n",
    "        min_cost = math.inf\n",
    "        for u in edges[v]:\n",
    "            if (u not in visited) and (weights[(v, u)] < min_cost):\n",
    "                min_cost = weights[(v, u)]\n",
    "                next_node = u\n",
    "        if min_cost < math.inf:\n",
    "            v = next_node\n",
    "            cost += min_cost\n",
    "        else:\n",
    "            break\n",
    "    route.append(src)\n",
    "    cost += weights[(v, src)]\n",
    "\n",
    "    return route, cost"
   ]
  },
  {
   "cell_type": "markdown",
   "metadata": {},
   "source": [
    "<code>get_route_cost(route)</code>\n",
    "Parameters:\n",
    "- *route*: Hamiltonian route (dtype list)\n",
    "\n",
    "Returns:\n",
    "- *cost*: Tour cost in total distance (dtype float)"
   ]
  },
  {
   "cell_type": "code",
   "execution_count": 9,
   "metadata": {},
   "outputs": [],
   "source": [
    "def get_route_cost(route, weights):\n",
    "    curr = route[0]\n",
    "    cost = 0\n",
    "    for i in range(1, len(route)):\n",
    "        next = route[i]\n",
    "        cost += weights[(curr, next)]\n",
    "        curr = next\n",
    "    \n",
    "    return cost"
   ]
  },
  {
   "cell_type": "markdown",
   "metadata": {},
   "source": [
    "<code>swap_edges(route, v, u)</code>\n",
    "Parameters:  \n",
    "- *route*: Current route to be optimized\n",
    "- *v*: Index of first node to be swapped in new route\n",
    "- *u*: Index of second node to be swapped in new route\n",
    "\n",
    "Returns:\n",
    "- *new_route*: New route with 2-opt swapped nodes"
   ]
  },
  {
   "cell_type": "code",
   "execution_count": 10,
   "metadata": {},
   "outputs": [],
   "source": [
    "def swap_edges(route, v, u):\n",
    "    new_route = []\n",
    "    for i in range(v+1):\n",
    "        new_route.append(route[i])\n",
    "    for j in range(u, v, -1):\n",
    "        new_route.append(route[j])\n",
    "    for k in range(u+1, len(route)):\n",
    "        new_route.append(route[k])\n",
    "    \n",
    "    return new_route"
   ]
  },
  {
   "cell_type": "markdown",
   "metadata": {},
   "source": [
    "<code>get_2_opt_rte(src, route, weights)</code>  \n",
    "Parameters:  \n",
    "- *route*: Input route, arbitrarily generated (dtype list)\n",
    "- *weights*: Dictionary object of edge weights between cities (distance in nautical miles)\n",
    "\n",
    "Returns:  \n",
    "- *route*: Heuristically generated route using 2-opt swapping (dtype list)\n",
    "- *cost*: The tour cost for the route in nautical miles (dtype float)"
   ]
  },
  {
   "cell_type": "code",
   "execution_count": 11,
   "metadata": {},
   "outputs": [],
   "source": [
    "def get_2_opt_rte(route, weights):\n",
    "    curr_route = route\n",
    "    best_distance = get_route_cost(curr_route, weights)\n",
    "    can_improve = True\n",
    "    while can_improve:\n",
    "        can_improve = False\n",
    "        for i in range(1, len(route)-2):\n",
    "            for j in range(i+1, len(route)-1):\n",
    "                new_route = swap_edges(curr_route, i, j)\n",
    "                new_distance = get_route_cost(new_route, weights)\n",
    "                if new_distance < best_distance:\n",
    "                    curr_route = new_route\n",
    "                    best_distance = new_distance\n",
    "                    can_improve = True\n",
    "    \n",
    "    return curr_route, best_distance"
   ]
  },
  {
   "cell_type": "markdown",
   "metadata": {},
   "source": [
    "<code>get_exact_rte(src, nodes, weights)</code>  \n",
    "Parameters:  \n",
    "- *src*: Start and end location (dtype string)\n",
    "- *nodes*: List of destination cities (dtype string)\n",
    "- *weights*: Dictionary object of edge weights between cities (distance in nautical miles)\n",
    "\n",
    "Returns:  \n",
    "- *route*: Route of exact shortest route, calculated via brute force (dtype list)\n",
    "- *cost*: The tour cost for the route in nautical miles (dtype float)route in nautical miles (dtype float)"
   ]
  },
  {
   "cell_type": "code",
   "execution_count": 12,
   "metadata": {},
   "outputs": [],
   "source": [
    "def get_exact_rte(src, nodes, weights):\n",
    "    all_rtes = list(permutations(nodes))\n",
    "    best_rte = None\n",
    "    min_cost = math.inf\n",
    "\n",
    "    for rte in all_rtes:\n",
    "        route = [src] + list(rte) + [src]\n",
    "        curr = route[0]\n",
    "        cost = 0\n",
    "\n",
    "        for i in range(1, len(route)):\n",
    "            next = route[i]\n",
    "            cost += weights[(curr, next)]\n",
    "            curr = next\n",
    "        \n",
    "        if cost < min_cost:\n",
    "            min_cost = cost\n",
    "            best_rte = route\n",
    "    \n",
    "    return best_rte, min_cost"
   ]
  },
  {
   "cell_type": "markdown",
   "metadata": {},
   "source": [
    "**Test Routes**\n",
    "- Start: Phoenix\n",
    "- Destinations: Random sample from filtered DataFrame"
   ]
  },
  {
   "cell_type": "code",
   "execution_count": 13,
   "metadata": {},
   "outputs": [
    {
     "name": "stdout",
     "output_type": "stream",
     "text": [
      "Home: Phoenix\n",
      "Cities: ['Memphis', 'Raleigh', 'Detroit', 'Miami', 'Portland', 'Atlanta', 'Fort Worth']\n"
     ]
    }
   ],
   "source": [
    "home = 'Phoenix'\n",
    "dest_cities = pop_cities['City'].sample(7, random_state=42).to_list()\n",
    "print(f'Home: {home}')\n",
    "print(f'Cities: {dest_cities}')"
   ]
  },
  {
   "cell_type": "markdown",
   "metadata": {},
   "source": [
    "Initalize parameters and calculate graph edges and weights."
   ]
  },
  {
   "cell_type": "code",
   "execution_count": 14,
   "metadata": {},
   "outputs": [],
   "source": [
    "city_list = [home] + dest_cities\n",
    "df_destinations = get_city_data(city_list)\n",
    "edges, weights, coords = create_map(df_destinations)"
   ]
  },
  {
   "cell_type": "markdown",
   "metadata": {},
   "source": [
    "**Random Route**"
   ]
  },
  {
   "cell_type": "code",
   "execution_count": 15,
   "metadata": {},
   "outputs": [
    {
     "name": "stdout",
     "output_type": "stream",
     "text": [
      "Random Route: ['Phoenix', 'Portland', 'Miami', 'Atlanta', 'Detroit', 'Fort Worth', 'Memphis', 'Raleigh', 'Phoenix']\n",
      "Total Distance: 7763.5 nm\n",
      "Calculation Time: 0.0 seconds\n"
     ]
    }
   ],
   "source": [
    "t0 = time.time()\n",
    "route, total_dist = get_random_rte(home, dest_cities, weights)\n",
    "t1 = time.time()\n",
    "\n",
    "print(f'Random Route: {route}')\n",
    "print(f'Total Distance: {\"{:.1f}\".format(total_dist)} nm')\n",
    "print(f'Calculation Time: {t1 - t0} seconds')"
   ]
  },
  {
   "cell_type": "markdown",
   "metadata": {},
   "source": [
    "**Greedy Route**\n",
    "\n",
    "For each destination on the route, choose the next closest city to visit, then return to the home city."
   ]
  },
  {
   "cell_type": "code",
   "execution_count": 16,
   "metadata": {},
   "outputs": [
    {
     "name": "stdout",
     "output_type": "stream",
     "text": [
      "Greedy Route: ['Phoenix', 'Fort Worth', 'Memphis', 'Atlanta', 'Raleigh', 'Detroit', 'Miami', 'Portland', 'Phoenix']\n",
      "Total Distance: 6408.1 nm\n",
      "Calculation Time: 0.0 seconds\n"
     ]
    }
   ],
   "source": [
    "t0 = time.time()\n",
    "route, total_dist = get_greedy_rte(home, edges, weights)\n",
    "t1 = time.time()\n",
    "\n",
    "print(f'Greedy Route: {route}')\n",
    "print(f'Total Distance: {\"{:.1f}\".format(total_dist)} nm')\n",
    "print(f'Calculation Time: {t1 - t0} seconds')"
   ]
  },
  {
   "cell_type": "markdown",
   "metadata": {},
   "source": [
    "**Exact Shortest Path**\n",
    "\n",
    "Brute force calculation for the shortest path, visiting all nodes once, and returning home."
   ]
  },
  {
   "cell_type": "code",
   "execution_count": 17,
   "metadata": {},
   "outputs": [
    {
     "name": "stdout",
     "output_type": "stream",
     "text": [
      "Shortest Route: ['Phoenix', 'Portland', 'Detroit', 'Raleigh', 'Miami', 'Atlanta', 'Memphis', 'Fort Worth', 'Phoenix']\n",
      "Total Distance: 5585.2 nm\n",
      "Calculation Time: 0.005983114242553711 seconds\n"
     ]
    }
   ],
   "source": [
    "t0 = time.time()\n",
    "route, total_dist = get_exact_rte(home, dest_cities, weights)\n",
    "t1 = time.time()\n",
    "\n",
    "print(f'Shortest Route: {route}')\n",
    "print(f'Total Distance: {\"{:.1f}\".format(total_dist)} nm')\n",
    "print(f'Calculation Time: {t1 - t0} seconds')"
   ]
  },
  {
   "cell_type": "markdown",
   "metadata": {},
   "source": [
    "**Heuristic Approach**\n",
    "\n",
    "Using 2-opt swapping, we'll optimize a randomly generated Hamiltonian route from the source node."
   ]
  },
  {
   "cell_type": "code",
   "execution_count": 18,
   "metadata": {},
   "outputs": [
    {
     "name": "stdout",
     "output_type": "stream",
     "text": [
      "Random Route: ['Phoenix', 'Atlanta', 'Portland', 'Miami', 'Detroit', 'Memphis', 'Raleigh', 'Fort Worth', 'Phoenix']\n",
      "Total Distance: 9417.3 nm\n",
      "Calculation Time: 0.0 seconds\n",
      "Heuristic Route: ['Phoenix', 'Atlanta', 'Miami', 'Raleigh', 'Detroit', 'Memphis', 'Fort Worth', 'Portland', 'Phoenix']\n",
      "Total Distance: 6161.5 nm\n",
      "Calculation Time: 0.0 seconds\n"
     ]
    }
   ],
   "source": [
    "t0 = time.time()\n",
    "route, total_dist = get_random_rte(home, dest_cities, weights)\n",
    "t1 = time.time()\n",
    "\n",
    "print(f'Random Route: {route}')\n",
    "print(f'Total Distance: {\"{:.1f}\".format(total_dist)} nm')\n",
    "print(f'Calculation Time: {t1 - t0} seconds')\n",
    "\n",
    "t0 = time.time()\n",
    "new_route, new_dist = get_2_opt_rte(route, weights)\n",
    "t1 = time.time()\n",
    "print(f'Heuristic Route: {new_route}')\n",
    "print(f'Total Distance: {\"{:.1f}\".format(new_dist)} nm')\n",
    "print(f'Calculation Time: {t1 - t0} seconds')"
   ]
  }
 ],
 "metadata": {
  "kernelspec": {
   "display_name": "Python 3",
   "language": "python",
   "name": "python3"
  },
  "language_info": {
   "codemirror_mode": {
    "name": "ipython",
    "version": 3
   },
   "file_extension": ".py",
   "mimetype": "text/x-python",
   "name": "python",
   "nbconvert_exporter": "python",
   "pygments_lexer": "ipython3",
   "version": "3.11.1"
  }
 },
 "nbformat": 4,
 "nbformat_minor": 2
}
