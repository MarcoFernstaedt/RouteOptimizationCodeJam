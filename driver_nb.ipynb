{
 "cells": [
  {
   "cell_type": "markdown",
   "metadata": {},
   "source": [
    "## TripleTen Code Jam 2023\n",
    "**Team: Santa's Coders**\n",
    "- Marco Fernstaedt\n",
    "- Veronica Steele\n",
    "- Andrew Kwon\n",
    "\n",
    "In this project, our team designed a delivery route application where users can select a start location and up to seven destinations. This project applies various methods to solving/estimating a small scale adaptation of the traveling salesman problem, or shortest Hamiltonian cycle."
   ]
  },
  {
   "cell_type": "markdown",
   "metadata": {},
   "source": [
    "### Libraries, Packages, Modules\n",
    "\n",
    "The required libraries are contained in the route.py module, and are as follows:\n",
    "- pandas (2.1.2)\n",
    "- import random\n",
    "- import math\n",
    "- itertools.permutations\n",
    "- geopy.distance (2.4.1)"
   ]
  },
  {
   "cell_type": "code",
   "execution_count": 1,
   "metadata": {},
   "outputs": [],
   "source": [
    "import time\n",
    "from route import Locations, Route"
   ]
  },
  {
   "cell_type": "markdown",
   "metadata": {},
   "source": [
    "### Initializing Data\n",
    "\n",
    "We'll create a Locations object from the dataset. We'll pick an arbitrary start city (Phoenix) and randomly select seven destination cities."
   ]
  },
  {
   "cell_type": "code",
   "execution_count": 2,
   "metadata": {},
   "outputs": [
    {
     "name": "stdout",
     "output_type": "stream",
     "text": [
      "Home: Phoenix\n",
      "Cities: ['Memphis', 'Raleigh', 'Detroit', 'Miami', 'Portland', 'Atlanta', 'Fort Worth']\n"
     ]
    }
   ],
   "source": [
    "filepath = 'datasets\\cities_final.csv'\n",
    "cities = Locations(filepath)\n",
    "\n",
    "home = 'Phoenix'\n",
    "dest_cities = cities.get_all_cities().sample(7, random_state=42)['City'].to_list()\n",
    "print(f'Home: {home}')\n",
    "print(f'Cities: {dest_cities}')"
   ]
  },
  {
   "cell_type": "markdown",
   "metadata": {},
   "source": [
    "Given the start city and destination nodes, we can generate graph edges, edge weights, and coordinates for each city location. Additionally, we can initialize a Route object to begin calculating various routes and their associated costs."
   ]
  },
  {
   "cell_type": "code",
   "execution_count": 3,
   "metadata": {},
   "outputs": [],
   "source": [
    "edges, weights, coords = cities.create_map(home, dest_cities)\n",
    "route = Route(home, dest_cities, edges, weights)"
   ]
  },
  {
   "cell_type": "markdown",
   "metadata": {},
   "source": [
    "### Route Algorithms\n",
    "\n",
    "To illustrate optimization improvements, we'll compare the following search path algorithms:  \n",
    "- Random path (baseline)\n",
    "- Greedy\n",
    "- K-optimal Tours (Heuristic)\n",
    "- Brute Force"
   ]
  },
  {
   "cell_type": "markdown",
   "metadata": {},
   "source": [
    "**Random Route**"
   ]
  },
  {
   "cell_type": "code",
   "execution_count": 4,
   "metadata": {},
   "outputs": [
    {
     "name": "stdout",
     "output_type": "stream",
     "text": [
      "Random Route: ['Phoenix', 'Raleigh', 'Memphis', 'Fort Worth', 'Detroit', 'Portland', 'Miami', 'Atlanta', 'Phoenix']\n",
      "Total Distance: 9466.4 nm\n",
      "Calculation Time: 0.0 seconds\n"
     ]
    }
   ],
   "source": [
    "t0 = time.time()\n",
    "path, cost = route.get_random_rte()\n",
    "t1 = time.time()\n",
    "\n",
    "print(f'Random Route: {path}')\n",
    "print(f'Total Distance: {\"{:.1f}\".format(cost)} nm')\n",
    "print(f'Calculation Time: {t1 - t0} seconds')"
   ]
  },
  {
   "cell_type": "markdown",
   "metadata": {},
   "source": [
    "**Greedy Route**"
   ]
  },
  {
   "cell_type": "code",
   "execution_count": 5,
   "metadata": {},
   "outputs": [
    {
     "name": "stdout",
     "output_type": "stream",
     "text": [
      "Greedy Route: ['Phoenix', 'Fort Worth', 'Memphis', 'Atlanta', 'Raleigh', 'Detroit', 'Miami', 'Portland', 'Phoenix']\n",
      "Total Distance: 6408.1 nm\n",
      "Calculation Time: 0.0009980201721191406 seconds\n"
     ]
    }
   ],
   "source": [
    "t0 = time.time()\n",
    "path, cost = route.get_greedy_rte()\n",
    "t1 = time.time()\n",
    "\n",
    "print(f'Greedy Route: {path}')\n",
    "print(f'Total Distance: {\"{:.1f}\".format(cost)} nm')\n",
    "print(f'Calculation Time: {t1 - t0} seconds')"
   ]
  },
  {
   "cell_type": "markdown",
   "metadata": {},
   "source": [
    "**Shortest Route**"
   ]
  },
  {
   "cell_type": "code",
   "execution_count": 6,
   "metadata": {},
   "outputs": [
    {
     "name": "stdout",
     "output_type": "stream",
     "text": [
      "Shortest Route: ['Phoenix', 'Fort Worth', 'Memphis', 'Atlanta', 'Miami', 'Raleigh', 'Detroit', 'Portland', 'Phoenix']\n",
      "Total Distance: 5585.2 nm\n",
      "Calculation Time: 0.015957355499267578 seconds\n"
     ]
    }
   ],
   "source": [
    "t0 = time.time()\n",
    "path, cost = route.get_exact_rte()\n",
    "t1 = time.time()\n",
    "\n",
    "print(f'Shortest Route: {path}')\n",
    "print(f'Total Distance: {\"{:.1f}\".format(cost)} nm')\n",
    "print(f'Calculation Time: {t1 - t0} seconds')"
   ]
  },
  {
   "cell_type": "markdown",
   "metadata": {},
   "source": [
    "**Heuristic Route**\n",
    "\n",
    "Comparison between baseline randomized route and optimization method"
   ]
  },
  {
   "cell_type": "code",
   "execution_count": 7,
   "metadata": {},
   "outputs": [
    {
     "name": "stdout",
     "output_type": "stream",
     "text": [
      "Random Route: ['Phoenix', 'Portland', 'Detroit', 'Atlanta', 'Miami', 'Fort Worth', 'Raleigh', 'Memphis', 'Phoenix']\n",
      "Total Distance: 7221.6 nm\n",
      "Calculation Time: 0.0 seconds\n",
      "Heuristic Route: ['Phoenix', 'Portland', 'Detroit', 'Raleigh', 'Miami', 'Atlanta', 'Memphis', 'Fort Worth', 'Phoenix']\n",
      "Total Distance: 5585.2 nm\n",
      "Calculation Time: 0.0009965896606445312 seconds\n"
     ]
    }
   ],
   "source": [
    "t0 = time.time()\n",
    "rand_rte, cost = route.get_random_rte()\n",
    "t1 = time.time()\n",
    "\n",
    "print(f'Random Route: {rand_rte}')\n",
    "print(f'Total Distance: {\"{:.1f}\".format(cost)} nm')\n",
    "print(f'Calculation Time: {t1 - t0} seconds')\n",
    "\n",
    "t0 = time.time()\n",
    "opt_rte, new_cost = route.get_2_opt_rte(rand_rte)\n",
    "t1 = time.time()\n",
    "\n",
    "print(f'Heuristic Route: {opt_rte}')\n",
    "print(f'Total Distance: {\"{:.1f}\".format(new_cost)} nm')\n",
    "print(f'Calculation Time: {t1 - t0} seconds')"
   ]
  }
 ],
 "metadata": {
  "kernelspec": {
   "display_name": "Python 3",
   "language": "python",
   "name": "python3"
  },
  "language_info": {
   "codemirror_mode": {
    "name": "ipython",
    "version": 3
   },
   "file_extension": ".py",
   "mimetype": "text/x-python",
   "name": "python",
   "nbconvert_exporter": "python",
   "pygments_lexer": "ipython3",
   "version": "3.11.1"
  }
 },
 "nbformat": 4,
 "nbformat_minor": 2
}
